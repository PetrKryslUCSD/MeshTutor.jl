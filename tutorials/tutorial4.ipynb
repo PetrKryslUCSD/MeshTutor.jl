{
 "cells": [
  {
   "cell_type": "markdown",
   "source": [
    "# Constructing a boundary of a mesh"
   ],
   "metadata": {}
  },
  {
   "cell_type": "markdown",
   "source": [
    "In this tutorial, we will learn\n",
    "\n",
    "   -  How to extract the boundary of the mesh.\n",
    "   -  How to understand the summary of the mesh.\n",
    "   -  How to export individual incidence relations for visualization."
   ],
   "metadata": {}
  },
  {
   "cell_type": "markdown",
   "source": [
    "As in the previous tutorials, we import a NASTRAN mesh file.\n",
    "This file stores a tetrahedral mesh of a hollow cylinder."
   ],
   "metadata": {}
  },
  {
   "outputs": [],
   "cell_type": "code",
   "source": [
    "using MeshSteward: import_NASTRAN\n",
    "connectivities = import_NASTRAN(\"trunc_cyl_shell_0.nas\");"
   ],
   "metadata": {},
   "execution_count": null
  },
  {
   "cell_type": "markdown",
   "source": [
    "Note that importing the mesh may mean bringing in multiple incidence\n",
    "relations: the file may hold multiple meshes. The type of the returned value\n",
    "is therefore"
   ],
   "metadata": {}
  },
  {
   "outputs": [],
   "cell_type": "code",
   "source": [
    "typeof(connectivities)"
   ],
   "metadata": {},
   "execution_count": null
  },
  {
   "cell_type": "markdown",
   "source": [
    "i. e. an array of incidence relations."
   ],
   "metadata": {}
  },
  {
   "cell_type": "markdown",
   "source": [
    "The mesh is created as before and the incidence relation is attached to it."
   ],
   "metadata": {}
  },
  {
   "outputs": [],
   "cell_type": "code",
   "source": [
    "using MeshSteward: Mesh, attach!\n",
    "mesh = Mesh()\n",
    "attach!(mesh, connectivities[1]);"
   ],
   "metadata": {},
   "execution_count": null
  },
  {
   "cell_type": "markdown",
   "source": [
    "Now we extract an incidence relation for the boundary of the tetrahedral\n",
    "mesh."
   ],
   "metadata": {}
  },
  {
   "outputs": [],
   "cell_type": "code",
   "source": [
    "using MeshSteward: boundary\n",
    "bir = boundary(mesh);"
   ],
   "metadata": {},
   "execution_count": null
  },
  {
   "cell_type": "markdown",
   "source": [
    "Let us print the summary information for the mesh:"
   ],
   "metadata": {}
  },
  {
   "outputs": [],
   "cell_type": "code",
   "source": [
    "using MeshSteward: summary\n",
    "println(summary(mesh))"
   ],
   "metadata": {},
   "execution_count": null
  },
  {
   "cell_type": "markdown",
   "source": [
    "The summary will look like this:\n",
    "```\n",
    "Mesh mesh: ((3, 0), \"\") = (elements, vertices): elements = 996 x T4, vertices = 376 x P1 {geom,};  ((2, 0), \"boundary\") = (facets, vertices): facets = 752 x T3, vertices = 376 x P1 {geom,};  ((2, 0), \"\") = skeleton: shapes = 2368 x T3 {isboundary,}, vertices = 376 x P1 {geom,}; (facets, vertices): facets = 752 x T3, vertices = 376 x P1 {geom,}\n",
    "```"
   ],
   "metadata": {}
  },
  {
   "cell_type": "markdown",
   "source": [
    "The information states that there are 996 T4 tetrahedral elements, 376\n",
    "vertices in the base incidence relation (`(3, 0)`) . The second  incidence\n",
    "relation stored in the mesh (`(2, 0)`) is the skeleton of the tetrahedral\n",
    "mesh, i. e. collection of the faces of the tetrahedra. The vertices store as\n",
    "attribute their locations. The triangular faces of the skeleton also store an\n",
    "attribute, a Boolean flag that indicates whether or not the triangle is part\n",
    "of the boundary. Finally, the boundary itself had been extracted and stored as\n",
    "the incidence relation `(2, 0, \"boundary\")`."
   ],
   "metadata": {}
  },
  {
   "cell_type": "markdown",
   "source": [
    "We can access this information also through the boundary incidence relation\n",
    "computed above:"
   ],
   "metadata": {}
  },
  {
   "outputs": [],
   "cell_type": "code",
   "source": [
    "println(summary(bir))"
   ],
   "metadata": {},
   "execution_count": null
  },
  {
   "cell_type": "markdown",
   "source": [
    "We can see that the boundary consists of 752 triangular facets. In order to\n",
    "visualize the boundary we will export it as a VTK file."
   ],
   "metadata": {}
  },
  {
   "outputs": [],
   "cell_type": "code",
   "source": [
    "using MeshSteward: baseincrel\n",
    "using MeshSteward: vtkwrite"
   ],
   "metadata": {},
   "execution_count": null
  },
  {
   "cell_type": "markdown",
   "source": [
    "We shall also produce a file with *all* the  vertices so that we can visualize\n",
    "the vertices and the boundary in one plot. In order to get an incidence\n",
    "relation with the vertices, which has a code of `(0, 0)`, we will use the\n",
    "`vertices` function."
   ],
   "metadata": {}
  },
  {
   "outputs": [],
   "cell_type": "code",
   "source": [
    "using MeshSteward: vertices\n",
    "\n",
    "vtkwrite(\"trunc_cyl_shell_0-vertices\", vertices(mesh))"
   ],
   "metadata": {},
   "execution_count": null
  },
  {
   "cell_type": "markdown",
   "source": [
    "And then we also export the triangular boundary facets."
   ],
   "metadata": {}
  },
  {
   "outputs": [],
   "cell_type": "code",
   "source": [
    "vtkwrite(\"trunc_cyl_shell_0-facets\", bir)"
   ],
   "metadata": {},
   "execution_count": null
  },
  {
   "cell_type": "markdown",
   "source": [
    "Start \"Paraview\", load the two files, and select for instance view as \"Surface\n",
    "with Edges\" with transparency. The result will be a view of the surface of the\n",
    "triangular mesh of the surface and the vertices will be shown as dots."
   ],
   "metadata": {}
  },
  {
   "outputs": [],
   "cell_type": "code",
   "source": [
    "@async run(`paraview `)"
   ],
   "metadata": {},
   "execution_count": null
  },
  {
   "cell_type": "markdown",
   "source": [
    "---\n",
    "\n",
    "*This notebook was generated using [Literate.jl](https://github.com/fredrikekre/Literate.jl).*"
   ],
   "metadata": {}
  }
 ],
 "nbformat_minor": 3,
 "metadata": {
  "language_info": {
   "file_extension": ".jl",
   "mimetype": "application/julia",
   "name": "julia",
   "version": "1.6.0-DEV.206"
  },
  "kernelspec": {
   "name": "julia-1.6",
   "display_name": "Julia 1.6.0-DEV.206",
   "language": "julia"
  }
 },
 "nbformat": 4
}
