{
 "cells": [
  {
   "cell_type": "markdown",
   "source": [
    "# Collecting and visualizing boundary vertices"
   ],
   "metadata": {}
  },
  {
   "cell_type": "markdown",
   "source": [
    "In this tutorial, we will learn\n",
    "\n",
    "   -  How to import an Abaqus file.\n",
    "   -  How to find the vertices on the boundary of the mesh.\n",
    "   -  How to visualize the vertices on the boundary of the mesh."
   ],
   "metadata": {}
  },
  {
   "cell_type": "markdown",
   "source": [
    "The tutorial will produce files for mesh visualization in the\n",
    "[Paraview](https://www.paraview.org/) format (VTK). One can display this\n",
    "information by loading the file with `paraview.exe`. When the tutorial is\n",
    "executed in `mybinder.org`, the graphics file needs to be downloaded to your\n",
    "desktop, and then visualized locally."
   ],
   "metadata": {}
  },
  {
   "cell_type": "markdown",
   "source": [
    "In this tutorial we import an Abaqus mesh. It represents a rectangular block\n",
    "with a circular opening, meshed with quadrilaterals."
   ],
   "metadata": {}
  },
  {
   "outputs": [],
   "cell_type": "code",
   "source": [
    "using MeshSteward: import_ABAQUS\n",
    "connectivities = import_ABAQUS(\"block-w-hole.inp\");"
   ],
   "metadata": {},
   "execution_count": null
  },
  {
   "cell_type": "markdown",
   "source": [
    "The imported incidence relations are stored in an array, `connectivities`. In\n",
    "the present case is just one such incidence relation in the file, and we will\n",
    "use it to create the mesh of the block."
   ],
   "metadata": {}
  },
  {
   "outputs": [],
   "cell_type": "code",
   "source": [
    "using MeshSteward: Mesh, attach!\n",
    "mesh = Mesh()\n",
    "attach!(mesh, connectivities[1]);"
   ],
   "metadata": {},
   "execution_count": null
  },
  {
   "cell_type": "markdown",
   "source": [
    "We can visualize the mesh by exporting the base relation of the mesh as a VTK\n",
    "file."
   ],
   "metadata": {}
  },
  {
   "outputs": [],
   "cell_type": "code",
   "source": [
    "using MeshSteward: vtkwrite\n",
    "using MeshSteward: baseincrel\n",
    "vtkwrite(\"block-w-hole\", baseincrel(mesh))"
   ],
   "metadata": {},
   "execution_count": null
  },
  {
   "cell_type": "markdown",
   "source": [
    "The boundary of the mesh consists of curve (line) segments, and may be\n",
    "extracted as:"
   ],
   "metadata": {}
  },
  {
   "outputs": [],
   "cell_type": "code",
   "source": [
    "using MeshSteward: boundary\n",
    "bir = boundary(mesh);\n",
    "vtkwrite(\"block-w-hole-boundary\", bir)"
   ],
   "metadata": {},
   "execution_count": null
  },
  {
   "cell_type": "markdown",
   "source": [
    "To collect all vertices connected by the boundary segments, we can do:"
   ],
   "metadata": {}
  },
  {
   "outputs": [],
   "cell_type": "code",
   "source": [
    "using MeshSteward: connectedv\n",
    "vl = connectedv(bir);"
   ],
   "metadata": {},
   "execution_count": null
  },
  {
   "cell_type": "markdown",
   "source": [
    "The result is a list of integer identifiers of the connected vertices. By\n",
    "comparing the length of the list of the vertices on the boundary with the total\n",
    "number of vertices (the number of shapes on the right of the incidence\n",
    "relation), we can see that less than one fourth of the vertices lies on the\n",
    "boundary."
   ],
   "metadata": {}
  },
  {
   "outputs": [],
   "cell_type": "code",
   "source": [
    "using MeshCore: nshapes\n",
    "@show length(vl)\n",
    "@show nshapes(baseincrel(mesh).right)"
   ],
   "metadata": {},
   "execution_count": null
  },
  {
   "cell_type": "markdown",
   "source": [
    "The shape collection `baseincrel(mesh).right` represents the vertices in the\n",
    "mesh. The very same collection may be retrieved from the mesh as:"
   ],
   "metadata": {}
  },
  {
   "outputs": [],
   "cell_type": "code",
   "source": [
    "using MeshSteward: vertices, summary\n",
    "verts = vertices(mesh);\n",
    "summary(verts)"
   ],
   "metadata": {},
   "execution_count": null
  },
  {
   "cell_type": "markdown",
   "source": [
    "The incidence relation `(0, 0)` that represents just the vertices on the\n",
    "boundary can be created as a subset of all the vertices in the mesh."
   ],
   "metadata": {}
  },
  {
   "outputs": [],
   "cell_type": "code",
   "source": [
    "using MeshCore: ir_subset, summary\n",
    "ssverts = ir_subset(verts, vl);\n",
    "summary(ssverts)"
   ],
   "metadata": {},
   "execution_count": null
  },
  {
   "cell_type": "markdown",
   "source": [
    "The vertices on the boundary may be exported for visualization into a VTK\n",
    "file."
   ],
   "metadata": {}
  },
  {
   "outputs": [],
   "cell_type": "code",
   "source": [
    "using MeshCore: nshapes\n",
    "@show nshapes(ssverts.left), nshapes(ssverts.right)"
   ],
   "metadata": {},
   "execution_count": null
  },
  {
   "cell_type": "markdown",
   "source": [
    "Here we inspect the incidence relation. We can see that the shape collection on the left is called \"shapes\"."
   ],
   "metadata": {}
  },
  {
   "outputs": [],
   "cell_type": "code",
   "source": [
    "using MeshSteward: summary\n",
    "@show summary(ssverts)"
   ],
   "metadata": {},
   "execution_count": null
  },
  {
   "cell_type": "markdown",
   "source": [
    "Hence, we instruct the export function to incorporate into the output file the\n",
    "shape collection on the left of the incidence relation. We do that by\n",
    "specifying the tag \"shapes\". The information will be written out as cell\n",
    "data, and can be visualized with the glyphs. The entities represented in the\n",
    "file are simply points. In paraview, they may be visualized with \"3D glyphs\"\n",
    "as little balls: choose \"Representation\" to be \"3D glyphs\", and then the\n",
    "glyph type \"Sphere\"."
   ],
   "metadata": {}
  },
  {
   "outputs": [],
   "cell_type": "code",
   "source": [
    "vtkwrite(\"block-w-hole-boundary-vertices\", ssverts, [(name = \"shapes\",)])"
   ],
   "metadata": {},
   "execution_count": null
  },
  {
   "cell_type": "markdown",
   "source": [
    "---\n",
    "\n",
    "*This notebook was generated using [Literate.jl](https://github.com/fredrikekre/Literate.jl).*"
   ],
   "metadata": {}
  }
 ],
 "nbformat_minor": 3,
 "metadata": {
  "language_info": {
   "file_extension": ".jl",
   "mimetype": "application/julia",
   "name": "julia",
   "version": "1.6.0-DEV.206"
  },
  "kernelspec": {
   "name": "julia-1.6",
   "display_name": "Julia 1.6.0-DEV.206",
   "language": "julia"
  }
 },
 "nbformat": 4
}
