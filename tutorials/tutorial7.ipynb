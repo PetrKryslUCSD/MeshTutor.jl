{
 "cells": [
  {
   "cell_type": "markdown",
   "source": [
    "# Selecting boundary faces"
   ],
   "metadata": {}
  },
  {
   "cell_type": "markdown",
   "source": [
    "In this tutorial, we will learn\n",
    "\n",
    "   -  How to use some low-level functionality of the MeshCore library.\n",
    "   -  How to find the boundary of the mesh.\n",
    "   -  How to select pieces of the boundary surfaces."
   ],
   "metadata": {}
  },
  {
   "cell_type": "markdown",
   "source": [
    "The tutorial will produce files for mesh visualization in the\n",
    "[Paraview](https://www.paraview.org/) format (VTK). One can display this\n",
    "information by loading the file with `paraview.exe`. When the tutorial is\n",
    "executed in `mybinder.org`, the graphics file needs to be downloaded to your\n",
    "desktop, and then visualized locally."
   ],
   "metadata": {}
  },
  {
   "cell_type": "markdown",
   "source": [
    "As an example we generate a regular tetrahedral mesh from hardwired arrays for\n",
    "the locations of the nodes and the connectivities of the elements."
   ],
   "metadata": {}
  },
  {
   "outputs": [],
   "cell_type": "code",
   "source": [
    "include(\"samplet4.jl\")\n",
    "using Main.samplet4: samplet4mesh\n",
    "xyz, cc = samplet4mesh()"
   ],
   "metadata": {},
   "execution_count": null
  },
  {
   "cell_type": "markdown",
   "source": [
    "The two arrays `xyz`, `cc`, define the locations of the vertices (`xyz`, one\n",
    "node per row), and  the numbers of the vertices connected by the tetrahedral\n",
    "elements(again, one element per row of the array `cc`)."
   ],
   "metadata": {}
  },
  {
   "cell_type": "markdown",
   "source": [
    "Here we show some low-level operations using the core mesh library. The\n",
    "locations of the vertices are stored in static arrays in order to achieve fast\n",
    "access and processing."
   ],
   "metadata": {}
  },
  {
   "outputs": [],
   "cell_type": "code",
   "source": [
    "using StaticArrays"
   ],
   "metadata": {},
   "execution_count": null
  },
  {
   "cell_type": "markdown",
   "source": [
    "First we find out how many space coordinate dimensions there are (there should be 3)."
   ],
   "metadata": {}
  },
  {
   "outputs": [],
   "cell_type": "code",
   "source": [
    "N, T = size(xyz, 2), eltype(xyz)"
   ],
   "metadata": {},
   "execution_count": null
  },
  {
   "cell_type": "markdown",
   "source": [
    "Now we can create an attribute for the vertex  shape collection to represent\n",
    "the locations of the vertices."
   ],
   "metadata": {}
  },
  {
   "outputs": [],
   "cell_type": "code",
   "source": [
    "using MeshCore: VecAttrib\n",
    "locs =  VecAttrib([SVector{N, T}(xyz[i, :]) for i in 1:size(xyz, 1)])"
   ],
   "metadata": {},
   "execution_count": null
  },
  {
   "cell_type": "markdown",
   "source": [
    "We can create two shape collections, one for the vertices, and one for the\n",
    "tetrahedral elements. We also attach the geometry attribute to the vertex\n",
    "shape collection."
   ],
   "metadata": {}
  },
  {
   "outputs": [],
   "cell_type": "code",
   "source": [
    "using MeshCore: P1, T4, ShapeColl\n",
    "vrts = ShapeColl(P1, length(locs))\n",
    "vrts.attributes[\"geom\"] = locs\n",
    "tets = ShapeColl(T4, size(cc, 1))"
   ],
   "metadata": {},
   "execution_count": null
  },
  {
   "cell_type": "markdown",
   "source": [
    "Finally we connect the two shaped collections in an incidence relation."
   ],
   "metadata": {}
  },
  {
   "outputs": [],
   "cell_type": "code",
   "source": [
    "using MeshCore: IncRel\n",
    "ir = IncRel(tets, vrts, cc)"
   ],
   "metadata": {},
   "execution_count": null
  },
  {
   "cell_type": "markdown",
   "source": [
    "The incidence relation (which really represents what is meant by \"mesh\"), can\n",
    "be written out to a file for visualization."
   ],
   "metadata": {}
  },
  {
   "outputs": [],
   "cell_type": "code",
   "source": [
    "using MeshSteward: vtkwrite\n",
    "vtkwrite(\"samplet4-elements\", ir)"
   ],
   "metadata": {},
   "execution_count": null
  },
  {
   "cell_type": "markdown",
   "source": [
    "The boundary of the tetrahedral mesh may be derived by a topological operation\n",
    "that constructs the skeleton of the mesh and identifies faces that are on the\n",
    "boundary."
   ],
   "metadata": {}
  },
  {
   "outputs": [],
   "cell_type": "code",
   "source": [
    "using MeshCore: ir_boundary\n",
    "bir = ir_boundary(ir)"
   ],
   "metadata": {},
   "execution_count": null
  },
  {
   "cell_type": "markdown",
   "source": [
    "Now we select the boundary faces which are inside a box. The box is defined by\n",
    "the six numbers, for each of the  three coordinates we give the lower and\n",
    "upper limit, and then the box is increased (inflated) in all directions by a\n",
    "small amount in order to be able to capture vertices whose location is not\n",
    "precisely in the original box. This is important because the original box is\n",
    "in fact of zero volume,  being of zero thickness in the Y direction (both the\n",
    "lower and upper bound in Y are 8.0)."
   ],
   "metadata": {}
  },
  {
   "outputs": [],
   "cell_type": "code",
   "source": [
    "using MeshSteward: eselect\n",
    "@show el = eselect(bir; box = [0.0, 3.0, 8.0, 8.0, 0.0, 5.0], inflate = 0.01)"
   ],
   "metadata": {},
   "execution_count": null
  },
  {
   "cell_type": "markdown",
   "source": [
    "A subset of the boundary within the box (the faces given by the list `el`) may\n",
    "now be extracted and written out for visualization into a file. Both the file\n",
    "exported above and this one can now be loaded into  visualization software\n",
    "(we assume `paraview` here, at any visualization software capable of reading\n",
    "VTK files will do), and the correctness of the selection may be verified\n",
    "visually."
   ],
   "metadata": {}
  },
  {
   "outputs": [],
   "cell_type": "code",
   "source": [
    "using MeshCore: ir_subset\n",
    "using MeshSteward: vtkwrite\n",
    "vtkwrite(\"samplet4-boundary-y=8\", ir_subset(bir, el))"
   ],
   "metadata": {},
   "execution_count": null
  },
  {
   "cell_type": "markdown",
   "source": [
    "---\n",
    "\n",
    "*This notebook was generated using [Literate.jl](https://github.com/fredrikekre/Literate.jl).*"
   ],
   "metadata": {}
  }
 ],
 "nbformat_minor": 3,
 "metadata": {
  "language_info": {
   "file_extension": ".jl",
   "mimetype": "application/julia",
   "name": "julia",
   "version": "1.6.0-DEV.206"
  },
  "kernelspec": {
   "name": "julia-1.6",
   "display_name": "Julia 1.6.0-DEV.206",
   "language": "julia"
  }
 },
 "nbformat": 4
}
