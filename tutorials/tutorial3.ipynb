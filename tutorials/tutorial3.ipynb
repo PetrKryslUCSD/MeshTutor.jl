{
 "cells": [
  {
   "cell_type": "markdown",
   "source": [
    "# Searching a mesh"
   ],
   "metadata": {}
  },
  {
   "cell_type": "markdown",
   "source": [
    "In this tutorial, we will learn\n",
    "\n",
    "   -  How to import an incidence relation from a Nastran file.\n",
    "   -  How to create a mesh from this incidence relation.\n",
    "   -  How to print the summary of the mesh.\n",
    "   -  How to search for some vertices.\n",
    "   -  How to export the selected vertices for visualization."
   ],
   "metadata": {}
  },
  {
   "cell_type": "markdown",
   "source": [
    "The tutorial will produce a visualization in the\n",
    "[Paraview](https://www.paraview.org/) format (VTK). One can display this mesh\n",
    "by loading the file with `paraview.exe`. When the tutorial is executed in\n",
    "`mybinder.org`, the graphics file needs to be downloaded to your desktop, and\n",
    "then visualized locally."
   ],
   "metadata": {}
  },
  {
   "cell_type": "markdown",
   "source": [
    "First  we will use a `MeshSteward` function to import a NASTRAN mesh file.\n",
    "This file stores a tetrahedral mesh of a hollow cylinder."
   ],
   "metadata": {}
  },
  {
   "outputs": [],
   "cell_type": "code",
   "source": [
    "using MeshSteward: import_NASTRAN\n",
    "connectivities = import_NASTRAN(\"trunc_cyl_shell_0.nas\");"
   ],
   "metadata": {},
   "execution_count": null
  },
  {
   "cell_type": "markdown",
   "source": [
    "The result, `connectivities`, is an an array of incidence relations (in this\n",
    "case there is just one entry in this array). We can create a mesh\n",
    "from this incidence relation as"
   ],
   "metadata": {}
  },
  {
   "outputs": [],
   "cell_type": "code",
   "source": [
    "using MeshSteward: Mesh, attach!\n",
    "mesh = Mesh()\n",
    "attach!(mesh, connectivities[1]);"
   ],
   "metadata": {},
   "execution_count": null
  },
  {
   "cell_type": "markdown",
   "source": [
    "Let us print the summary information for the mesh:"
   ],
   "metadata": {}
  },
  {
   "outputs": [],
   "cell_type": "code",
   "source": [
    "using MeshSteward: summary\n",
    "println(summary(mesh))"
   ],
   "metadata": {},
   "execution_count": null
  },
  {
   "cell_type": "markdown",
   "source": [
    "Here `(3, 0)` means relationship between three-dimensional finite elements and\n",
    "the zero dimensional vertices (dimension in the sense of manifolds). It is\n",
    "referred to as the \"code\" of the incidence relation. The final piece of\n",
    "information shows the attributes of the vertex shape collection: `geom`\n",
    "provides access to the locations of the vertices."
   ],
   "metadata": {}
  },
  {
   "cell_type": "markdown",
   "source": [
    "The imported mesh can be exported, this time in a different format,\n",
    "suitable for visualization. The tetrahedral elements are the base incidence\n",
    "relation of the mesh."
   ],
   "metadata": {}
  },
  {
   "outputs": [],
   "cell_type": "code",
   "source": [
    "using MeshSteward: baseincrel\n",
    "using MeshSteward: vtkwrite\n",
    "vtkwrite(\"trunc_cyl_shell_0-elements\", baseincrel(mesh))"
   ],
   "metadata": {},
   "execution_count": null
  },
  {
   "cell_type": "markdown",
   "source": [
    "Start \"Paraview\", load the file `\"trunc_cyl_shell_0-elements.vtu\"` and\n",
    "select for instance view as \"Surface with Edges\". The result will be a view\n",
    "of the surface of the tetrahedral mesh."
   ],
   "metadata": {}
  },
  {
   "outputs": [],
   "cell_type": "code",
   "source": [
    "@async run(`paraview trunc_cyl_shell_0-elements.vtu`)"
   ],
   "metadata": {},
   "execution_count": null
  },
  {
   "cell_type": "markdown",
   "source": [
    "Now we will locate some vertices. In particular, let us say we wish to select\n",
    "the vertices  in one of the cross-sections of the hollow cylinder, one at $$Z\n",
    "= 0.5$$. We shall use the method of a bounding box:  all vertices inside the\n",
    "bounding box will be selected. The bounding box will initially start as\n",
    "totally flat (zero volume), and in order to capture the vertices which are not\n",
    "*precisely* at $$Z = 0.5$$ (given the vagaries of floating-point numbers), we\n",
    "shall inflate the box to all sides by a small amount."
   ],
   "metadata": {}
  },
  {
   "outputs": [],
   "cell_type": "code",
   "source": [
    "using MeshSteward: boundingbox, inflatebox!\n",
    "box = boundingbox([-Inf -Inf 0.5; Inf Inf 0.5])\n",
    "box = inflatebox!(box, 0.001)"
   ],
   "metadata": {},
   "execution_count": null
  },
  {
   "cell_type": "markdown",
   "source": [
    "The function `vselect` will create an incidence relation that consists of the\n",
    "selected vertices."
   ],
   "metadata": {}
  },
  {
   "outputs": [],
   "cell_type": "code",
   "source": [
    "using MeshSteward: vselect\n",
    "selectedv = vselect(mesh, box = box);"
   ],
   "metadata": {},
   "execution_count": null
  },
  {
   "cell_type": "markdown",
   "source": [
    "This is how many vertices  have been found in that cross-section:"
   ],
   "metadata": {}
  },
  {
   "outputs": [],
   "cell_type": "code",
   "source": [
    "using MeshCore: nshapes\n",
    "@show nshapes(selectedv.left)"
   ],
   "metadata": {},
   "execution_count": null
  },
  {
   "cell_type": "markdown",
   "source": [
    "The incidence relation links some vertices (the shape collection on the left)\n",
    "to the shape collection of the original vertices (on the right). We can see it\n",
    "from the summary:"
   ],
   "metadata": {}
  },
  {
   "outputs": [],
   "cell_type": "code",
   "source": [
    "summary(selectedv)"
   ],
   "metadata": {},
   "execution_count": null
  },
  {
   "cell_type": "markdown",
   "source": [
    "The incidence relation consisting of the selected vertices may be exported for\n",
    "viewing with the \"Paraview\" visualization program. Select to visualize this\n",
    "mesh as\n",
    "\"Points\", and select the size of the points as 8."
   ],
   "metadata": {}
  },
  {
   "outputs": [],
   "cell_type": "code",
   "source": [
    "using MeshSteward: vtkwrite\n",
    "vtkwrite(\"trunc_cyl_shell_0-selected-vertices\", selectedv)"
   ],
   "metadata": {},
   "execution_count": null
  },
  {
   "cell_type": "markdown",
   "source": [
    "Note that a file of this name, `\"trunc_cyl_shell_0-selected-vertices.vtu\"` is\n",
    "provided with the installation. When you run this tutorial  you should get a\n",
    "file with the same contents. The selected  vertices may be visualized with the\n",
    "point glyphs (\"Point Gaussian\") in Paraview. Provided the Paraview executable\n",
    "is in your path, the line below should start it."
   ],
   "metadata": {}
  },
  {
   "outputs": [],
   "cell_type": "code",
   "source": [
    "@async run(`paraview trunc_cyl_shell_0-selected-vertices.vtu`)"
   ],
   "metadata": {},
   "execution_count": null
  },
  {
   "cell_type": "markdown",
   "source": [
    "It is also possible to start `paraview` and then manually load both\n",
    "files, `\"trunc_cyl_shell_0-elements.vtu\"` and\n",
    "`\"trunc_cyl_shell_0-selected-vertices.vtu\"` into a single visualization."
   ],
   "metadata": {}
  },
  {
   "cell_type": "markdown",
   "source": [
    "---\n",
    "\n",
    "*This notebook was generated using [Literate.jl](https://github.com/fredrikekre/Literate.jl).*"
   ],
   "metadata": {}
  }
 ],
 "nbformat_minor": 3,
 "metadata": {
  "language_info": {
   "file_extension": ".jl",
   "mimetype": "application/julia",
   "name": "julia",
   "version": "1.6.0-DEV.206"
  },
  "kernelspec": {
   "name": "julia-1.6",
   "display_name": "Julia 1.6.0-DEV.206",
   "language": "julia"
  }
 },
 "nbformat": 4
}
