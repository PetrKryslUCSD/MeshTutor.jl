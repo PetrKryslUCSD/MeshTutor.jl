{
 "cells": [
  {
   "cell_type": "markdown",
   "source": [
    "# Accessing attributes and finding the bounding box"
   ],
   "metadata": {}
  },
  {
   "cell_type": "markdown",
   "source": [
    "In this tutorial, we will learn\n",
    "\n",
    "   -  How to access an attribute of an incidence relation.\n",
    "   -  How to access the values in an attribute.\n",
    "   -  How to find the bounding box of the mesh."
   ],
   "metadata": {}
  },
  {
   "cell_type": "markdown",
   "source": [
    "As in the previous tutorials, we import a NASTRAN mesh file.\n",
    "This file stores a tetrahedral mesh of a hollow cylinder."
   ],
   "metadata": {}
  },
  {
   "outputs": [],
   "cell_type": "code",
   "source": [
    "using MeshSteward: import_NASTRAN\n",
    "connectivities = import_NASTRAN(\"trunc_cyl_shell_0.nas\");"
   ],
   "metadata": {},
   "execution_count": null
  },
  {
   "cell_type": "markdown",
   "source": [
    "The mesh is created as before and the incidence relation is attached to it."
   ],
   "metadata": {}
  },
  {
   "outputs": [],
   "cell_type": "code",
   "source": [
    "using MeshSteward: Mesh, attach!\n",
    "mesh = Mesh()\n",
    "attach!(mesh, connectivities[1]);"
   ],
   "metadata": {},
   "execution_count": null
  },
  {
   "cell_type": "markdown",
   "source": [
    "The base incidence relation of the mesh may be retrieved as:"
   ],
   "metadata": {}
  },
  {
   "outputs": [],
   "cell_type": "code",
   "source": [
    "using MeshSteward: baseincrel\n",
    "ir = baseincrel(mesh);"
   ],
   "metadata": {},
   "execution_count": null
  },
  {
   "cell_type": "markdown",
   "source": [
    "Let us look at a summary  of this incidence relation:"
   ],
   "metadata": {}
  },
  {
   "outputs": [],
   "cell_type": "code",
   "source": [
    "using MeshSteward: summary\n",
    "println(summary(ir))"
   ],
   "metadata": {},
   "execution_count": null
  },
  {
   "cell_type": "markdown",
   "source": [
    "We can see that it relates tetrahedral elements with vertices, and the\n",
    "vertices shape collection has an attribute known under the name \"geom\".\n",
    "We can retrieve this attribute as"
   ],
   "metadata": {}
  },
  {
   "outputs": [],
   "cell_type": "code",
   "source": [
    "using MeshSteward: geometry\n",
    "geom = geometry(mesh);"
   ],
   "metadata": {},
   "execution_count": null
  },
  {
   "cell_type": "markdown",
   "source": [
    "The attribute holds one value per entity with which it is associated. In\n",
    "particular, for the geometry attribute we retrieved above from the mesh,\n",
    "there is one value (coordinate tuple) for each vertex. For instance, the\n",
    "location of vertex 1 is"
   ],
   "metadata": {}
  },
  {
   "outputs": [],
   "cell_type": "code",
   "source": [
    "@show geom[1]"
   ],
   "metadata": {},
   "execution_count": null
  },
  {
   "cell_type": "markdown",
   "source": [
    "The number of values stored in the attribute should match the number of\n",
    "vertices in the mesh"
   ],
   "metadata": {}
  },
  {
   "outputs": [],
   "cell_type": "code",
   "source": [
    "using MeshCore: nshapes\n",
    "@show length(geom) == nshapes(ir.right)"
   ],
   "metadata": {},
   "execution_count": null
  },
  {
   "cell_type": "markdown",
   "source": [
    "Accessing the attribute \"geom\" provides access to the locations of the\n",
    "vertices, and hence to the geometry of the mesh as it consists of\n",
    "isoparametric elements. This is how we can calculate the bounding box of the\n",
    "mesh."
   ],
   "metadata": {}
  },
  {
   "outputs": [],
   "cell_type": "code",
   "source": [
    "using MeshSteward: initbox, updatebox!\n",
    "box = initbox(geom[1])\n",
    "for i in 1:length(geom)\n",
    "    updatebox!(box, geom[i])\n",
    "end\n",
    "@show box"
   ],
   "metadata": {},
   "execution_count": null
  },
  {
   "cell_type": "markdown",
   "source": [
    "So the vertices of the mesh all have coordinates ``-0.275 \\le x  \\le  0.275\n",
    "``, ``-0.275 \\le y  \\le  0.275 ``, and ``0.0   \\le z  \\le  0.5``."
   ],
   "metadata": {}
  },
  {
   "cell_type": "markdown",
   "source": [
    "---\n",
    "\n",
    "*This notebook was generated using [Literate.jl](https://github.com/fredrikekre/Literate.jl).*"
   ],
   "metadata": {}
  }
 ],
 "nbformat_minor": 3,
 "metadata": {
  "language_info": {
   "file_extension": ".jl",
   "mimetype": "application/julia",
   "name": "julia",
   "version": "1.6.0-DEV.206"
  },
  "kernelspec": {
   "name": "julia-1.6",
   "display_name": "Julia 1.6.0-DEV.206",
   "language": "julia"
  }
 },
 "nbformat": 4
}
